{
  "nbformat": 4,
  "nbformat_minor": 0,
  "metadata": {
    "colab": {
      "provenance": [],
      "authorship_tag": "ABX9TyP1JjK+7V3REjkvvbM4gzfh",
      "include_colab_link": true
    },
    "kernelspec": {
      "name": "python3",
      "display_name": "Python 3"
    },
    "language_info": {
      "name": "python"
    }
  },
  "cells": [
    {
      "cell_type": "markdown",
      "metadata": {
        "id": "view-in-github",
        "colab_type": "text"
      },
      "source": [
        "<a href=\"https://colab.research.google.com/github/SAMYSOSERIOUS/Leetcode-75/blob/main/2_Add_Two_Numbers.ipynb\" target=\"_parent\"><img src=\"https://colab.research.google.com/assets/colab-badge.svg\" alt=\"Open In Colab\"/></a>"
      ]
    },
    {
      "source": [
        "class ListNode:\n",
        "    def __init__(self, val=0, next=None):\n",
        "        self.val = val\n",
        "        self.next = next\n",
        "\n",
        "class Solution(object):\n",
        "    def addTwoNumbers(self, l1, l2):\n",
        "        # Convert the input lists to linked lists\n",
        "        l1 = self.list_to_linked_list(l1)\n",
        "        l2 = self.list_to_linked_list(l2)\n",
        "\n",
        "        dummyHead = ListNode(0)\n",
        "        curr = dummyHead\n",
        "        carry = 0\n",
        "        result_list = []  # Initialize an empty list to store the result\n",
        "        while l1 != None or l2 != None or carry != 0:\n",
        "            l1Val = l1.val if l1 else 0\n",
        "            l2Val = l2.val if l2 else 0\n",
        "            columnSum = l1Val + l2Val + carry\n",
        "            carry = columnSum // 10\n",
        "            newNode = ListNode(columnSum % 10)\n",
        "\n",
        "            # Append the new node's value to the result list\n",
        "            result_list.append(newNode.val)\n",
        "\n",
        "            curr.next = newNode\n",
        "            curr = newNode\n",
        "            l1 = l1.next if l1 else None\n",
        "            l2 = l2.next if l2 else None\n",
        "        return result_list # Return the list instead of the linked list\n",
        "\n",
        "    def list_to_linked_list(self, lst):\n",
        "        \"\"\"Converts a Python list to a linked list.\"\"\"\n",
        "        if not lst:\n",
        "            return None\n",
        "        head = ListNode(lst[0])\n",
        "        curr = head\n",
        "        for val in lst[1:]:\n",
        "            curr.next = ListNode(val)\n",
        "            curr = curr.next\n",
        "        return head\n",
        "\n",
        "l1 =[2,4,3]\n",
        "l2 =[5,6,4]\n",
        "solution = Solution()\n",
        "result = solution.addTwoNumbers(l1, l2)\n",
        "print(result)"
      ],
      "cell_type": "code",
      "metadata": {
        "colab": {
          "base_uri": "https://localhost:8080/"
        },
        "id": "AU4Rw0GvVtdv",
        "outputId": "c19f4abb-d1b0-4b69-b935-6efbd62d8b5d"
      },
      "execution_count": 31,
      "outputs": [
        {
          "output_type": "stream",
          "name": "stdout",
          "text": [
            "[7, 0, 8]\n"
          ]
        }
      ]
    }
  ]
}