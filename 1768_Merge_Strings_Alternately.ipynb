{
  "nbformat": 4,
  "nbformat_minor": 0,
  "metadata": {
    "colab": {
      "provenance": [],
      "authorship_tag": "ABX9TyPveKggn257znWZFgzcxWpm",
      "include_colab_link": true
    },
    "kernelspec": {
      "name": "python3",
      "display_name": "Python 3"
    },
    "language_info": {
      "name": "python"
    }
  },
  "cells": [
    {
      "cell_type": "markdown",
      "metadata": {
        "id": "view-in-github",
        "colab_type": "text"
      },
      "source": [
        "<a href=\"https://colab.research.google.com/github/SAMYSOSERIOUS/Leetcode-75/blob/main/1768_Merge_Strings_Alternately.ipynb\" target=\"_parent\"><img src=\"https://colab.research.google.com/assets/colab-badge.svg\" alt=\"Open In Colab\"/></a>"
      ]
    },
    {
      "cell_type": "code",
      "source": [
        "class Solution(object):\n",
        "    def mergeAlternately(self, word1, word2):\n",
        "        \"\"\"\n",
        "        :type word1: str\n",
        "        :type word2: str\n",
        "        :rtype: str\n",
        "        \"\"\"\n",
        "        result=\"\"\n",
        "        for i in range(max(len(word1),len(word2))):\n",
        "            if i<len(word1):\n",
        "                result+=word1[i]\n",
        "            if i<len(word2):\n",
        "                result+=word2[i]\n",
        "        return result\n",
        "word1 = \"abc\"\n",
        "word2 = \"pqr\"\n",
        "print(Solution().mergeAlternately(word1, word2))\n",
        "word1 = \"ab\"\n",
        "word2 = \"pqrs\"\n",
        "print(Solution().mergeAlternately(word1, word2))\n",
        "word1 = \"abcd\"\n",
        "word2 = \"pq\"\n",
        "print(Solution().mergeAlternately(word1, word2))"
      ],
      "metadata": {
        "colab": {
          "base_uri": "https://localhost:8080/"
        },
        "id": "7tAYjwuWyAEQ",
        "outputId": "15df75e5-7b1e-4281-8697-f847281c03a3"
      },
      "execution_count": 2,
      "outputs": [
        {
          "output_type": "stream",
          "name": "stdout",
          "text": [
            "apbqcr\n",
            "apbqrs\n",
            "apbqcd\n"
          ]
        }
      ]
    }
  ]
}