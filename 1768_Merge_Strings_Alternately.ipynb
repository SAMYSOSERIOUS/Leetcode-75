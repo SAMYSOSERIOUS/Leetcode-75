{
  "nbformat": 4,
  "nbformat_minor": 0,
  "metadata": {
    "colab": {
      "provenance": [],
      "authorship_tag": "ABX9TyOdcTdfUAzZ2sky0r4wPoqN",
      "include_colab_link": true
    },
    "kernelspec": {
      "name": "python3",
      "display_name": "Python 3"
    },
    "language_info": {
      "name": "python"
    }
  },
  "cells": [
    {
      "cell_type": "markdown",
      "metadata": {
        "id": "view-in-github",
        "colab_type": "text"
      },
      "source": [
        "<a href=\"https://colab.research.google.com/github/SAMYSOSERIOUS/Leetcode-75/blob/main/1768_Merge_Strings_Alternately.ipynb\" target=\"_parent\"><img src=\"https://colab.research.google.com/assets/colab-badge.svg\" alt=\"Open In Colab\"/></a>"
      ]
    },
    {
      "source": [
        "class Solution(object):\n",
        "    def mergeAlternately(self, word1, word2):\n",
        "        \"\"\"\n",
        "        :type word1: str\n",
        "        :type word2: str\n",
        "        :rtype: str\n",
        "        \"\"\"\n",
        "        result=\"\"\n",
        "        for i in range(max(len(word1),len(word2))):\n",
        "            if i<len(word1):\n",
        "                result+=word1[i]\n",
        "            if i<len(word2):\n",
        "                result+=word2[i]\n",
        "        return result\n",
        "word1 = \"abc\"\n",
        "word2 = \"pqr\"\n",
        "print(Solution().mergeAlternately(word1, word2))\n",
        "word1 = \"ab\"\n",
        "word2 = \"pqrs\"\n",
        "print(Solution().mergeAlternately(word1, word2))\n",
        "word1 = \"abcd\"\n",
        "word2 = \"pq\"\n",
        "print(Solution().mergeAlternately(word1, word2))"
      ],
      "cell_type": "code",
      "metadata": {
        "colab": {
          "base_uri": "https://localhost:8080/"
        },
        "id": "rMHAzbH3DxOI",
        "outputId": "f25da16b-8d0c-4d03-c8d8-eec1768adbaa"
      },
      "execution_count": 1,
      "outputs": [
        {
          "output_type": "stream",
          "name": "stdout",
          "text": [
            "apbqcr\n",
            "apbqrs\n",
            "apbqcd\n"
          ]
        }
      ]
    },
    {
      "source": [],
      "cell_type": "code",
      "metadata": {
        "colab": {
          "base_uri": "https://localhost:8080/"
        },
        "id": "bMGXM1JF3B90",
        "outputId": "5928acee-c57c-44d5-fbb4-50d5ebbb0fe8"
      },
      "execution_count": 3,
      "outputs": [
        {
          "output_type": "stream",
          "name": "stdout",
          "text": [
            "apbqcr\n",
            "apbqrs\n",
            "apbqcd\n"
          ]
        }
      ]
    }
  ]
}